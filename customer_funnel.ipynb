{
 "cells": [
  {
   "cell_type": "code",
   "execution_count": null,
   "metadata": {},
   "outputs": [],
   "source": [
    "import pandas as pd\n",
    "\n",
    "# table = pd.read_csv('events_2023-07-28_2023-07-30.csv', delimiter=',')\n",
    "table = pd.read_csv('events_exemp.csv', delimiter=',')\n",
    "data = pd.read_csv('test_data.csv', delimiter=',')\n",
    "# table.head()\n",
    "data.head(10)\n"
   ]
  },
  {
   "cell_type": "code",
   "execution_count": null,
   "metadata": {},
   "outputs": [],
   "source": [
    "# Получаем серию с количеством записей для каждого значения в столбце 'event'\n",
    "event_counts = table['event'].value_counts()\n",
    "\n",
    "# event_counts\n",
    "\n",
    "# # Преобразуем серию в словарь\n",
    "# event_counts_dict = event_counts.to_dict()\n",
    "\n",
    "# # Сортируем словарь по значениям (количество записей)\n",
    "# sorted_event_counts_dict = {k: v for k, v in sorted(event_counts_dict.items(), key=lambda item: item[1], reverse=True)}\n",
    "\n",
    "# for k, v in sorted_event_counts_dict.items():\n",
    "#     print(k.ljust(40), v)"
   ]
  },
  {
   "cell_type": "code",
   "execution_count": 7,
   "metadata": {},
   "outputs": [
    {
     "name": "stdout",
     "output_type": "stream",
     "text": [
      "Средняя длина одной сессии с мобильным приложением: 2169.3410303030305\n",
      "Страна с наибольшим количеством скачиваний приложения: United States\n",
      "Наиболее популярная сказка на главном экране: Cinderella\n"
     ]
    }
   ],
   "source": [
    "import pandas as pd\n",
    "\n",
    "# Загрузка данных из CSV-файла в DataFrame\n",
    "data = pd.read_csv(\"test_data.csv\")\n",
    "\n",
    "# 1. Средняя длина сессии с мобильным приложением\n",
    "average_session_length = data.groupby('session_id')['event_time'].apply(lambda x: x.max() - x.min()).mean()\n",
    "\n",
    "# 2. Страна с наибольшим количеством скачиваний приложения\n",
    "most_downloaded_country = data.groupby('country')['device_id'].nunique().idxmax()\n",
    "\n",
    "# 3. Наиболее популярная сказка на главном экране\n",
    "most_tapped_story = data[data['event'] == 'tapStoryButton']['value'].value_counts().idxmax()\n",
    "\n",
    "print(\"Средняя длина одной сессии с мобильным приложением:\", average_session_length)\n",
    "print(\"Страна с наибольшим количеством скачиваний приложения:\", most_downloaded_country)\n",
    "print(\"Наиболее популярная сказка на главном экране:\", most_tapped_story)"
   ]
  }
 ],
 "metadata": {
  "kernelspec": {
   "display_name": "Python 3 (ipykernel)",
   "language": "python",
   "name": "python3"
  },
  "language_info": {
   "codemirror_mode": {
    "name": "ipython",
    "version": 3
   },
   "file_extension": ".py",
   "mimetype": "text/x-python",
   "name": "python",
   "nbconvert_exporter": "python",
   "pygments_lexer": "ipython3",
   "version": "3.8.16"
  }
 },
 "nbformat": 4,
 "nbformat_minor": 2
}
