{
 "cells": [
  {
   "cell_type": "code",
   "execution_count": 14,
   "metadata": {},
   "outputs": [],
   "source": [
    "import pandas as pd\n",
    "\n",
    "table = pd.read_csv('events_2023-07-28_2023-07-30.csv', delimiter=',')\n",
    "# table = pd.read_csv('events_exemp.csv', delimiter=',')\n",
    "# data = pd.read_csv('test_data.csv', delimiter=',')\n",
    "# table.head()\n",
    "# data.head(10)\n"
   ]
  },
  {
   "cell_type": "code",
   "execution_count": 81,
   "metadata": {},
   "outputs": [],
   "source": [
    "# Получаем серию с количеством записей для каждого значения в столбце 'event'\n",
    "event_counts = table['event'].value_counts()\n",
    "# event_counts"
   ]
  },
  {
   "cell_type": "code",
   "execution_count": 18,
   "metadata": {},
   "outputs": [
    {
     "name": "stdout",
     "output_type": "stream",
     "text": [
      "Средняя длина одной сессии с мобильным приложением: 2169.3410303030305\n",
      "Страна с наибольшим количеством скачиваний приложения: United States\n",
      "Наиболее популярная сказка на главном экране: Cinderella\n"
     ]
    }
   ],
   "source": [
    "# Загрузка данных из CSV-файла в DataFrame\n",
    "data = pd.read_csv(\"test_data.csv\")\n",
    "\n",
    "# 1. Средняя длина сессии с мобильным приложением\n",
    "average_session_length = data.groupby('session_id')['event_time'].apply(lambda x: x.max() - x.min()).mean()\n",
    "\n",
    "# 2. Страна с наибольшим количеством скачиваний приложения\n",
    "most_downloaded_country = data.groupby('country')['device_id'].nunique().idxmax()\n",
    "\n",
    "# 3. Наиболее популярная сказка на главном экране\n",
    "most_tapped_story = data[data['event'] == 'tapStoryButton']['value'].value_counts().idxmax()\n",
    "\n",
    "print(\"Средняя длина одной сессии с мобильным приложением:\", average_session_length)\n",
    "print(\"Страна с наибольшим количеством скачиваний приложения:\", most_downloaded_country)\n",
    "print(\"Наиболее популярная сказка на главном экране:\", most_tapped_story)"
   ]
  },
  {
   "cell_type": "code",
   "execution_count": 65,
   "metadata": {},
   "outputs": [
    {
     "data": {
      "text/plain": [
       "2169.3410303030305"
      ]
     },
     "execution_count": 65,
     "metadata": {},
     "output_type": "execute_result"
    }
   ],
   "source": [
    "# Разбор кода ИИ\n",
    "data = pd.read_csv(\"test_data.csv\")\n",
    "#  --------------------------------\n",
    "# 1. Средняя длина сессии с мобильным приложением\n",
    "# average_session_length = data.groupby('session_id')['event_time'].apply(lambda x: x.max() - x.min()).mean()\n",
    "\n",
    "# а) Группируем датафрейм функцией groupby на блоки с одинаковым значением сессии по 'session_id'\n",
    "data.groupby('session_id')\n",
    "\n",
    "# б) Сгруппированный датафрейм (объект groupby) сокращаем до одного столбца (объект groupby) 'event_time'\n",
    "data.groupby('session_id')['event_time']\n",
    "\n",
    "# в) Применяем (apply) функцию lambda x: x.max() - x.min(). Внутри каждой сессии эта функция определит \n",
    "#   макс и мин значение event_time, возьмет его разницу и присвоет его данной сессии. При выводе на печать\n",
    "#   увидим строки из уникальных сессий и вычисленной дельты к ним. Дельта есть длина уникальной сессии\n",
    "data.groupby('session_id')['event_time'].apply(lambda x: x.max() - x.min())\n",
    "\n",
    "# г) Вычисляем среднее значение по столбцу дельт, то есть по столбцу event_time, то есть средняя длина сессии\n",
    "data.groupby('session_id')['event_time'].apply(lambda x: x.max() - x.min()).mean()"
   ]
  },
  {
   "cell_type": "code",
   "execution_count": 70,
   "metadata": {},
   "outputs": [
    {
     "data": {
      "text/plain": [
       "'United States'"
      ]
     },
     "execution_count": 70,
     "metadata": {},
     "output_type": "execute_result"
    }
   ],
   "source": [
    "# 2. Страна с наибольшим количеством скачиваний приложения\n",
    "# most_downloaded_country = data.groupby('country')['device_id'].nunique().idxmax()\n",
    "\n",
    "# а) Группируем датафрейм функцией groupby на блоки с одинаковыми странами 'country'\n",
    "data.groupby('country')\n",
    "\n",
    "# б) Сгруппированный датафрейм (объект groupby) сокращаем до одного столбца (объект groupby) 'device_id',\n",
    "#   идентификатора устройства пользователя\n",
    "data.groupby('country')['device_id']\n",
    "\n",
    "# в) Применяем функцию nunique() (Возврат количества уникальных элементов в объекте)\n",
    "#    Убираем дубликаты строк по устройствам, оставляем только уникальные. При выводе на печать\n",
    "#   увидим строки из стран и кол-ва уникальных устройств, с которых скачивалось приложение\n",
    "data.groupby('country')['device_id'].nunique()\n",
    "\n",
    "# г) С помощью функции idxmax() выбираем страну с макс кол-вом устройств == с наибольшим количеством скачиваний приложения\n",
    "data.groupby('country')['device_id'].nunique().idxmax()"
   ]
  },
  {
   "cell_type": "code",
   "execution_count": 79,
   "metadata": {},
   "outputs": [
    {
     "data": {
      "text/plain": [
       "'Cinderella'"
      ]
     },
     "execution_count": 79,
     "metadata": {},
     "output_type": "execute_result"
    }
   ],
   "source": [
    "# 3. Наиболее популярная сказка на главном экране\n",
    "# most_tapped_story = data[data['event'] == 'tapStoryButton']['value'].value_counts().idxmax()\n",
    "\n",
    "# а) Фильтруем датафрейм, оставляем лишь строки 'tapStoryButton' в столбце 'event' (== название сказки)\n",
    "data[data['event'] == 'tapStoryButton']\n",
    "\n",
    "# б) Сокращаем датафрейм до одного столбца 'value' с названиями сказок\n",
    "data[data['event'] == 'tapStoryButton']['value']\n",
    "\n",
    "# в) С помощью функции value_counts() считаем, сколько раз встречается каждая сказка в столбце 'value'\n",
    "data[data['event'] == 'tapStoryButton']['value'].value_counts()\n",
    "\n",
    "# г) С помощью функции idxmax() выбираем сказку с макс значением (рейтингом)\n",
    "data[data['event'] == 'tapStoryButton']['value'].value_counts().idxmax()"
   ]
  }
 ],
 "metadata": {
  "kernelspec": {
   "display_name": "Python 3 (ipykernel)",
   "language": "python",
   "name": "python3"
  },
  "language_info": {
   "codemirror_mode": {
    "name": "ipython",
    "version": 3
   },
   "file_extension": ".py",
   "mimetype": "text/x-python",
   "name": "python",
   "nbconvert_exporter": "python",
   "pygments_lexer": "ipython3",
   "version": "3.8.16"
  }
 },
 "nbformat": 4,
 "nbformat_minor": 2
}
