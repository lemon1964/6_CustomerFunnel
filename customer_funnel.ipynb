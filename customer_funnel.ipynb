{
 "cells": [
  {
   "cell_type": "code",
   "execution_count": 9,
   "metadata": {},
   "outputs": [],
   "source": [
    "import pandas as pd\n",
    "\n",
    "table = pd.read_csv('events_2023-07-28_2023-07-30.csv', delimiter=',')"
   ]
  },
  {
   "cell_type": "code",
   "execution_count": 10,
   "metadata": {},
   "outputs": [],
   "source": [
    "# Получаем серию с количеством записей для каждого значения в столбце 'event'\n",
    "event_counts = table['event'].value_counts()\n",
    "\n",
    "# Преобразуем серию в словарь\n",
    "event_counts_dict = event_counts.to_dict()\n",
    "\n",
    "# Сортируем словарь по значениям (количество записей)\n",
    "sorted_event_counts_dict = {k: v for k, v in sorted(event_counts_dict.items(), key=lambda item: item[1], reverse=True)}\n",
    "\n",
    "for k, v in sorted_event_counts_dict.items():\n",
    "    print(k.ljust(40), v)"
   ]
  }
 ],
 "metadata": {
  "kernelspec": {
   "display_name": "Python 3 (ipykernel)",
   "language": "python",
   "name": "python3"
  },
  "language_info": {
   "codemirror_mode": {
    "name": "ipython",
    "version": 3
   },
   "file_extension": ".py",
   "mimetype": "text/x-python",
   "name": "python",
   "nbconvert_exporter": "python",
   "pygments_lexer": "ipython3",
   "version": "3.8.16"
  }
 },
 "nbformat": 4,
 "nbformat_minor": 2
}
