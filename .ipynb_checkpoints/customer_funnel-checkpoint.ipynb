{
 "cells": [
  {
   "cell_type": "code",
   "execution_count": 17,
   "metadata": {},
   "outputs": [],
   "source": [
    "import pandas as pd\n",
    "\n",
    "table = pd.read_csv('/Users/lemon/Desktop/Проекты/KidReeds/6_CustomerFunnel/events_2023-07-28_2023-07-30.csv', delimiter=',')"
   ]
  },
  {
   "cell_type": "code",
   "execution_count": 18,
   "metadata": {},
   "outputs": [
    {
     "name": "stdout",
     "output_type": "stream",
     "text": [
      "tapNextPageButtonOnPage                  634\n",
      "eventTask                                633\n",
      "tapHoldAndSpeakButton                    605\n",
      "eventTaskStatus                          599\n",
      "tapHoldAndSpeakButtonOnboardScreen       470\n",
      "eventMainScreen                          398\n",
      "eventStoryPreviewScreen                  322\n",
      "tapStoryButton                           222\n",
      "eventDashboard                           198\n",
      "tapPlayButtonOnPage                      151\n",
      "eventStoryPage                           136\n",
      "errorWhisperResponseTimeOut              135\n",
      "tapShowMeButtonOnboardScreen             133\n",
      "tapDashboardButton                       116\n",
      "tapNextFromRuleOnWordTask                108\n",
      "tapPlayButtonOnStoryPreview              105\n",
      "tapNextToRuleOnWordTask                  100\n",
      "eventTaskStatusOnboardScreen             89\n",
      "eventWelcomeOnboardScreen                80\n",
      "tapDownloadButtonOnStoryPreview          79\n",
      "eventDownloadStoryContentFinished        75\n",
      "eventParentScreen                        74\n",
      "tapExitButtonOnPage                      72\n",
      "tapPauseButtonOnPage                     63\n",
      "eventUserGetNewLevel                     62\n",
      "eventDownloadStoryPreviewFinished        61\n",
      "eventParentNumberEntered                 55\n",
      "tapPersonalizedButtonOnboardScreen       54\n",
      "eventParentNumberPassed                  46\n",
      "tapPaywallOption                         39\n",
      "tapSkipButtonOnboardScreen               39\n",
      "tapStartButtonOnboardScreen              39\n",
      "eventStoryEndOnPage                      38\n",
      "eventShortTapOnMic                       32\n",
      "eventPaywall                             30\n",
      "eventAlphabet                            30\n",
      "tapSubscribeButtonOnStoryPreview         27\n",
      "eventRulesDashboard                      26\n",
      "tapPrevPageButtonOnPage                  25\n",
      "tapSubscribeOnPaywall                    25\n",
      "tapXMarkOnPaywall                        24\n",
      "tapRestartButtonOnStoryPreview           21\n",
      "tapSkipButtonOnPage                      19\n",
      "tapMusicToggleButton                     17\n",
      "tapListenPreviewButtonOnStoryPreview     15\n",
      "tapReplyRuleOnWordTask                   11\n",
      "eventParentNumberNotPassed               9\n",
      "tapRuleButton                            8\n",
      "tapRestorePurchasesSettings              5\n",
      "tapPrivacyPolicy                         5\n",
      "tapTerms                                 5\n",
      "tapRestorePurchasesOnPaywall             5\n",
      "eventRestoreSuccess                      5\n",
      "eventPurchaseWasCancelled                3\n",
      "tapSendFeedback                          3\n",
      "tapLetterButton                          1\n",
      "eventLetterWords                         1\n"
     ]
    }
   ],
   "source": [
    "# Получаем серию с количеством записей для каждого значения в столбце 'event'\n",
    "event_counts = table['event'].value_counts()\n",
    "\n",
    "# Преобразуем серию в словарь\n",
    "event_counts_dict = event_counts.to_dict()\n",
    "\n",
    "# Сортируем словарь по значениям (количество записей)\n",
    "sorted_event_counts_dict = {k: v for k, v in sorted(event_counts_dict.items(), key=lambda item: item[1], reverse=True)}\n",
    "\n",
    "# print(sorted_event_counts_dict)\n",
    "for k, v in sorted_event_counts_dict.items():\n",
    "    print(k.ljust(40), v)"
   ]
  },
  {
   "cell_type": "code",
   "execution_count": null,
   "metadata": {},
   "outputs": [],
   "source": []
  },
  {
   "cell_type": "code",
   "execution_count": null,
   "metadata": {},
   "outputs": [],
   "source": []
  }
 ],
 "metadata": {
  "kernelspec": {
   "display_name": "Python 3 (ipykernel)",
   "language": "python",
   "name": "python3"
  },
  "language_info": {
   "codemirror_mode": {
    "name": "ipython",
    "version": 3
   },
   "file_extension": ".py",
   "mimetype": "text/x-python",
   "name": "python",
   "nbconvert_exporter": "python",
   "pygments_lexer": "ipython3",
   "version": "3.9.7"
  }
 },
 "nbformat": 4,
 "nbformat_minor": 2
}
